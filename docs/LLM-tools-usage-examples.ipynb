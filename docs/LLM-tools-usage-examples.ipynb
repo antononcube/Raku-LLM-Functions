{
 "cells": [
  {
   "cell_type": "markdown",
   "id": "dcb093c5",
   "metadata": {},
   "source": [
    "# LLM tooling for Chemistry\n",
    "\n",
    "<p style=\"font-style: italic; font-size: 18px; color: dimgray;\">ChatGPT and Gemini</p>\n",
    "\n",
    "Anton Antonov   \n",
    "[RakuForPrediction at WordPress](https://rakuforprediction.wordpress.com)   \n",
    "September 2025"
   ]
  },
  {
   "cell_type": "markdown",
   "id": "fc255d8f",
   "metadata": {},
   "source": [
    "-----\n",
    "\n",
    "## Introduction"
   ]
  },
  {
   "cell_type": "markdown",
   "id": "04e8bf87",
   "metadata": {},
   "source": [
    "This notebook shows how to do utilize Large Language Model (LLM) [Function Calling](https://ai.google.dev/gemini-api/docs/function-calling) with the Raku package [\"LLM::Functions\"](https://github.com/antononcube/Raku-LLM-Functions), [AAp1].\n",
    "\n",
    "Non-trivial Stoichiometry examples are demonstrated with tools of the Raku package [\"Chemistry::Stoichiometry\"](https://raku.land/zef:antononcube/Chemistry::Stoichiometry), [AAp4].\n",
    "\n",
    "At this point \"LLM::Functions\" supports function calling in the styles of OpenAI's ChatGPT and Google's Gemini. If the LLM configuration is not using ChatGPT or Gemini, the function calling style used is that of ChatGPT. (Many LLM providers -- other than OpenAI and Gemini -- tend to adhere to OpenAI's API.)"
   ]
  },
  {
   "cell_type": "markdown",
   "id": "5a874186",
   "metadata": {},
   "source": [
    "-----\n",
    "\n",
    "## Setup"
   ]
  },
  {
   "cell_type": "markdown",
   "id": "097abe6f",
   "metadata": {},
   "source": [
    "Load packages:"
   ]
  },
  {
   "cell_type": "code",
   "execution_count": 16,
   "id": "95d84f7a",
   "metadata": {},
   "outputs": [],
   "source": [
    "use JSON::Fast;\n",
    "use LLM::Functions;\n",
    "use LLM::Tooling;\n",
    "use Chemistry::Stoichiometry;\n"
   ]
  },
  {
   "cell_type": "markdown",
   "id": "e0e10660",
   "metadata": {},
   "source": [
    "Define LLM access configurations:"
   ]
  },
  {
   "cell_type": "code",
   "execution_count": 17,
   "id": "8d96238d",
   "metadata": {},
   "outputs": [],
   "source": [
    "sink my $conf5-mini = llm-configuration('ChatGPT', model => 'gpt-5-mini');\n",
    "sink my $conf41-mini = llm-configuration('ChatGPT', model => 'gpt-4.1-mini', :8192max-tokens, temperature => 0.4);\n",
    "sink my $conf-gemini-flash = llm-configuration('Gemini', model => 'gemini-2.0-flash', :8192max-tokens, temperature => 0.4);"
   ]
  },
  {
   "cell_type": "markdown",
   "id": "6efae8bb",
   "metadata": {},
   "source": [
    "### JavaScript::D3"
   ]
  },
  {
   "cell_type": "code",
   "execution_count": 18,
   "id": "78f89d5c",
   "metadata": {},
   "outputs": [
    {
     "data": {
      "application/javascript": "require.config({\n     paths: {\n     d3: 'https://d3js.org/d3.v7.min'\n}});\n\nrequire(['d3'], function(d3) {\n     console.log(d3);\n});"
     },
     "execution_count": 18,
     "metadata": {},
     "output_type": "execute_result"
    }
   ],
   "source": [
    "#%javascript\n",
    "require.config({\n",
    "     paths: {\n",
    "     d3: 'https://d3js.org/d3.v7.min'\n",
    "}});\n",
    "\n",
    "require(['d3'], function(d3) {\n",
    "     console.log(d3);\n",
    "});"
   ]
  },
  {
   "cell_type": "code",
   "execution_count": 19,
   "id": "131a8ead",
   "metadata": {},
   "outputs": [
    {
     "data": {
      "application/javascript": "(function(element) { require(['d3'], function(d3) {\n\n// set the dimensions and margins of the graph\nvar margin = {\"left\":40,\"top\":40,\"right\":40,\"bottom\":40},\n    width = 600 - margin.left - margin.right,\n    height = 400 - margin.top - margin.bottom;\n\n// append the svg object to the body of the page\nvar svg = d3\n   .select(element.get(0))\n  .append(\"svg\")\n    .attr(\"width\", width + margin.left + margin.right)\n    .attr(\"height\", height + margin.top + margin.bottom)\n    .style(\"background\", \"none\")\n  .append(\"g\")\n    .attr(\"transform\",\n          \"translate(\" + margin.left + \",\" + margin.top + \")\")\n\n// Obtain title\nvar title = \"\"\nvar titleFontSize = 16\n\nif ( title.length > 0 ) {\n    svg.append(\"text\")\n        .attr(\"x\", (width / 2))\n        .attr(\"y\", 0 - (margin.top / 2))\n        .attr(\"text-anchor\", \"middle\")\n        .style(\"font-size\", titleFontSize.toString() + \"px\")\n        .style(\"fill\", \"Black\")\n        .text(title);\n}\n\n// Obtain x-axis label\nvar xAxisLabel = \"\"\nvar xAxisLabelFontSize = 12\n\nif ( xAxisLabel.length > 0 ) {\n    svg.append(\"text\")\n        .attr(\"x\", (width / 2))\n        .attr(\"y\", height + margin.bottom - xAxisLabelFontSize/2)\n        .attr(\"text-anchor\", \"middle\")\n        .style(\"font-size\", xAxisLabelFontSize.toString() + \"px\")\n        .style(\"fill\", \"Black\")\n        .text(xAxisLabel);\n}\n\n// Obtain y-axis label\nvar yAxisLabel = \"\"\nvar yAxisLabelFontSize = 12\n\nif ( yAxisLabel.length > 0 ) {\n    svg.append(\"text\")\n        .attr(\"transform\", \"rotate(-90)\")\n        .attr(\"x\", - (height / 2))\n        .attr(\"y\", 0 - margin.left + yAxisLabelFontSize)\n        .attr(\"text-anchor\", \"middle\")\n        .style(\"font-size\", yAxisLabelFontSize.toString() + \"px\")\n        .style(\"fill\", \"Black\")\n        .text(yAxisLabel);\n}\n\n\n// Obtain data\nvar data = [{\"x\":1,\"y\":7.112042415333116e0},{\"x\":2,\"y\":3.7245104595146317e0},{\"x\":3,\"y\":5.323348851458687e0},{\"y\":8.80129316346495e0,\"x\":4},{\"y\":6.473644943113241e0,\"x\":5},{\"y\":5.551998090926284e0,\"x\":6},{\"x\":7,\"y\":7.309099221207703e0},{\"x\":8,\"y\":1.0839376705316817e0},{\"x\":9,\"y\":4.049913644625144e0},{\"x\":10,\"y\":9.677290246010052e0},{\"x\":11,\"y\":4.970464679771977e0},{\"x\":12,\"y\":8.3822560470979e0},{\"y\":5.464970365872324e0,\"x\":13},{\"y\":4.619234259356063e0,\"x\":14},{\"y\":5.1858975718300435e0,\"x\":15},{\"y\":4.942217787691994e0,\"x\":16},{\"x\":17,\"y\":7.016643648234516e0},{\"y\":8.215506438954122e0,\"x\":18},{\"x\":19,\"y\":7.750072098927968e0},{\"y\":2.895072149071265e0,\"x\":20},{\"x\":21,\"y\":4.827262154376802e0},{\"x\":22,\"y\":2.341895771618238e0},{\"x\":23,\"y\":2.5745017452393313e0},{\"x\":24,\"y\":9.790322506199281e0},{\"y\":6.366341376316809e0,\"x\":25},{\"x\":26,\"y\":7.455649017796939e0},{\"y\":5.348628683913134e0,\"x\":27},{\"x\":28,\"y\":6.704566905434945e0},{\"y\":6.163227339300951e0,\"x\":29},{\"y\":8.686414331768269e0,\"x\":30}]\n\nvar xMin = Math.min.apply(Math, data.map(function(o) { return o.x; }))\nvar xMax = Math.max.apply(Math, data.map(function(o) { return o.x; }))\n\nvar yMin = Math.min.apply(Math, data.map(function(o) { return o.y; }))\nvar yMax = Math.max.apply(Math, data.map(function(o) { return o.y; }))\n\n// X scale and Axis\nvar x = d3.scaleLinear()\n    .domain([xMin, xMax])\n    .range([0, width]);\n\n// Y scale and Axis\nvar y = d3.scaleLinear()\n    .domain([yMin, yMax])\n    .range([height, 0]);\n\nsvg\n  .append('g')\n  .attr(\"transform\", \"translate(0,\" + height + \")\")\n  .call(d3.axisBottom(x))\n\nsvg\n  .append('g')\n  .call(d3.axisLeft(y));\n\n// prepare a helper function\nvar lineFunc = d3.line()\n  .x(function(d) { return x(d.x) })\n  .y(function(d) { return y(d.y) })\n\n// Add the path using this helper function\nsvg.append('path')\n  .attr('d', lineFunc(data))\n  .attr(\"stroke-width\", 1.5)\n  .attr('stroke', \"SteelBlue\")\n  .attr('fill', 'none');\n\n}) })(element);\n"
     },
     "execution_count": 19,
     "metadata": {},
     "output_type": "execute_result"
    }
   ],
   "source": [
    "#%js\n",
    "js-d3-list-line-plot(10.rand xx 30, background => 'none')"
   ]
  },
  {
   "cell_type": "markdown",
   "id": "bd022748",
   "metadata": {},
   "source": [
    "----\n",
    "\n",
    "## Diagram"
   ]
  },
  {
   "cell_type": "markdown",
   "id": "fbfa151f",
   "metadata": {},
   "source": [
    "Here is a [Mermaid-JS](https://mermaid.js.org) diagram that shows _single-pass_ LLM-and-tool interaction:\n",
    "\n",
    "\n",
    "```mermaid\n",
    "sequenceDiagram\n",
    "    participant Developer\n",
    "    participant Model as LLM Service (Gemini)\n",
    "    participant Tool as External Function\n",
    "\n",
    "    Note over Developer, Model: 1. Tool Definitions + Messages\n",
    "    Developer->>Model: molecular-mass(molecule) <br> \"What's the mass of SO2?\"\n",
    "\n",
    "    Note over Model: 2. Tool Calls\n",
    "    Model->>Tool: molecular-mass(\"SO2\")\n",
    "\n",
    "    Note over Tool: 3. Execute Function Code\n",
    "    Tool->>Model: {\"mass\": 64.058}\n",
    "\n",
    "    Note over Model: 4. Results\n",
    "    Model->>Developer: {\"mass\": 64.058}\n",
    "\n",
    "    Note over Developer: 5. Final Response\n",
    "    Developer->>Model: The molecular mass of SO2 is 64.058.\n",
    "```\n",
    "\n",
    "\n",
    "**Remark:** Instead of one invocation of a local tool -- as shown in the diagram -- often enough multiple LLM-&-local-computer interactions are used for LLM-tool computation.\n"
   ]
  },
  {
   "cell_type": "markdown",
   "id": "bb69d7f9",
   "metadata": {},
   "source": [
    "---\n",
    "\n",
    "## Chemistry computations examples"
   ]
  },
  {
   "cell_type": "markdown",
   "id": "fa70b59d",
   "metadata": {},
   "source": [
    "The package [\"Chemistry::Stoichiometry\"](https://raku.land/zef:antononcube/Chemistry::Stoichiometry), [AAp4], provides element data, a grammar (or parser) for chemical formulas, and subs for computing molecular masses and balancing equations. Here is an example of calling `molecular-mass`:"
   ]
  },
  {
   "cell_type": "code",
   "execution_count": 20,
   "id": "b4ed17f7",
   "metadata": {},
   "outputs": [
    {
     "data": {
      "text/plain": [
       "64.058"
      ]
     },
     "execution_count": 20,
     "metadata": {},
     "output_type": "execute_result"
    }
   ],
   "source": [
    "molecular-mass(\"SO2\")"
   ]
  },
  {
   "cell_type": "markdown",
   "id": "12663452",
   "metadata": {},
   "source": [
    "Balance chemical equation:"
   ]
  },
  {
   "cell_type": "code",
   "execution_count": 21,
   "id": "d2925844",
   "metadata": {},
   "outputs": [
    {
     "data": {
      "text/plain": [
       "[4*Al + 3*O2 -> 2*Al2O3]"
      ]
     },
     "execution_count": 21,
     "metadata": {},
     "output_type": "execute_result"
    }
   ],
   "source": [
    "'Al + O2 -> Al2O3'\n",
    "==> balance-chemical-equation"
   ]
  },
  {
   "cell_type": "markdown",
   "id": "08330d81",
   "metadata": {},
   "source": [
    "----\n",
    "\n",
    "## Define package functions as tools"
   ]
  },
  {
   "cell_type": "markdown",
   "id": "ea8d1593",
   "metadata": {},
   "source": [
    "Define a few subs -- _tools_ -- with sub- and argument descriptions (i.e. attached Pod values, or [declarator blocks](https://docs.raku.org/language/pod#Declarator_blocks)):"
   ]
  },
  {
   "cell_type": "code",
   "execution_count": 22,
   "id": "2a2299a6",
   "metadata": {},
   "outputs": [
    {
     "name": "stderr",
     "output_type": "stream",
     "text": [
      "Undefined type of parameter ⎡$spec⎦; continue assuming it is a string.\n"
     ]
    }
   ],
   "source": [
    "sink my @tool-objects =\n",
    "        LLM::Tool.new(&molecular-mass),\n",
    "        LLM::Tool.new(&balance-chemical-equation)\n",
    "        ;"
   ]
  },
  {
   "cell_type": "markdown",
   "id": "d890307e",
   "metadata": {},
   "source": [
    "-----\n",
    "\n",
    "## LLM-tool invocation example **1**"
   ]
  },
  {
   "cell_type": "markdown",
   "id": "c73a889a",
   "metadata": {},
   "source": [
    "A single prompt or an array of prompts:"
   ]
  },
  {
   "cell_type": "code",
   "execution_count": 23,
   "id": "b4866292",
   "metadata": {},
   "outputs": [],
   "source": [
    "sink my $input = \"What are the masses of SO2, O3, and C2H5OH? Also balance: C2H5OH + O2 = H2O + CO2\";"
   ]
  },
  {
   "cell_type": "markdown",
   "id": "d3453645",
   "metadata": {},
   "source": [
    "LLM result:"
   ]
  },
  {
   "cell_type": "code",
   "execution_count": 24,
   "id": "b8519304",
   "metadata": {},
   "outputs": [
    {
     "data": {
      "text/plain": [
       "{balanced_equation => 1*C2H5OH + 3*O2 -> 2*CO2 + 3*H2O, masses => {C2H5OH => 46.069, O3 => 47.997, SO2 => 64.058}}"
      ]
     },
     "execution_count": 24,
     "metadata": {},
     "output_type": "execute_result"
    }
   ],
   "source": [
    "my $conf = llm-configuration($conf41-mini, tools => @tool-objects);\n",
    "\n",
    "llm-synthesize(\n",
    "        [$input, llm-prompt('NothingElse')('JSON')],\n",
    "        e => $conf, \n",
    "        form => sub-parser('JSON'):drop)"
   ]
  },
  {
   "cell_type": "markdown",
   "id": "fbe4f87d",
   "metadata": {},
   "source": [
    "**Remark:** It order to see the LLM-tool interaction use the Boolean option (adverb) `:echo` of `llm-synthesize`."
   ]
  },
  {
   "cell_type": "markdown",
   "id": "1e73f751",
   "metadata": {},
   "source": [
    "--- \n",
    "\n",
    "## \"Thoughtful\" response"
   ]
  },
  {
   "cell_type": "markdown",
   "id": "e9d0f612",
   "metadata": {},
   "source": [
    "Here is a very informative, \"thoughtful\" response for a quantitative Chemistry question:"
   ]
  },
  {
   "cell_type": "code",
   "execution_count": 25,
   "id": "92342f9d",
   "metadata": {},
   "outputs": [
    {
     "data": {
      "text/markdown": [
       "To find the number of molecules in a kilogram of water, we need to follow these steps:\n",
       "\n",
       "1. Calculate the molar mass of water (H₂O).\n",
       "2. Convert the mass of water (1 kg) to moles.\n",
       "3. Use Avogadro's number to find the number of molecules.\n",
       "\n",
       "Step 1: Calculate the molar mass of water.\n",
       "Water (H₂O) consists of 2 hydrogen atoms and 1 oxygen atom.\n",
       "- Atomic mass of hydrogen (H) ≈ 1 g/mol\n",
       "- Atomic mass of oxygen (O) ≈ 16 g/mol\n",
       "\n",
       "Molar mass of water:\n",
       "$$ M = 2 \\times 1 + 16 = 18 \\, \\text{g/mol} $$\n",
       "\n",
       "Step 2: Convert 1 kg of water to grams:\n",
       "$$ 1 \\, \\text{kg} = 1000 \\, \\text{g} $$\n",
       "\n",
       "Number of moles in 1 kg of water:\n",
       "$$ n = \\frac{1000 \\, \\text{g}}{18 \\, \\text{g/mol}} \\approx 55.56 \\, \\text{mol} $$\n",
       "\n",
       "Step 3: Use Avogadro's number to find the number of molecules.\n",
       "Avogadro's number $ N_A $ is approximately $ 6.022 \\times 10^{23} $ molecules/mol.\n",
       "\n",
       "Number of molecules:\n",
       "$$ N = n \\times N_A = 55.56 \\times 6.022 \\times 10^{23} \\approx 3.34 \\times 10^{25} $$\n",
       "\n",
       "So, there are approximately $ 3.34 \\times 10^{25} $ molecules in 1 kilogram of water."
      ]
     },
     "execution_count": 25,
     "metadata": {},
     "output_type": "execute_result"
    }
   ],
   "source": [
    "#% markdown\n",
    "my $input = \"How many molecules a kilogram of water has? Use LaTeX for the formulas. (If any.)\";\n",
    "\n",
    "llm-synthesize($input, e => $conf)\n",
    "==> { .subst(/'\\[' | '\\]'/, '$$', :g).subst(/'\\(' | '\\)'/, '$', :g) }() # Make sure LaTeX code has proper fences"
   ]
  },
  {
   "cell_type": "markdown",
   "id": "6e42571e",
   "metadata": {},
   "source": [
    "-----\n",
    "\n",
    "## References"
   ]
  },
  {
   "cell_type": "markdown",
   "id": "6e7d12e8",
   "metadata": {},
   "source": [
    "### Articles, blog posts\n",
    "\n",
    "[AA1] Anton Antonov,\n",
    "[\"LLM function calling workflows (Part 1, OpenAI)\"](https://rakuforprediction.wordpress.com/2025/06/01/llm-function-calling-workflows-part-1-openai/),\n",
    "(2025),\n",
    "[RakuForPrediction at WordPress](https://rakuforprediction.wordpress.com).\n",
    "\n",
    "[AA2] Anton Antonov,\n",
    "[\"LLM function calling workflows (Part 2, Google's Gemini)\"](https://rakuforprediction.wordpress.com/2025/06/01/llm-function-calling-workflows-part-2-google-gemini/),\n",
    "(2025),\n",
    "[RakuForPrediction at WordPress](https://rakuforprediction.wordpress.com).\n",
    "\n",
    "[AA3] Anton Antonov,\n",
    "[\"LLM function calling workflows (Part 3, Facilitation)\"](https://rakuforprediction.wordpress.com/2025/06/08/llm-function-calling-workflows-part-3-facilitation/),\n",
    "(2025),\n",
    "[RakuForPrediction at WordPress](https://rakuforprediction.wordpress.com).\n",
    "\n",
    "[Gem1] Google Gemini,\n",
    "[\"Gemini Developer API\"](https://ai.google.dev/gemini-api/docs).\n",
    "\n",
    "[WRI1] Wolfram Research, Inc.\n",
    "[\"LLM-Related Functionality\" guide](https://reference.wolfram.com/language/guide/LLMFunctions.html).\n",
    "\n"
   ]
  },
  {
   "cell_type": "markdown",
   "id": "37641916",
   "metadata": {},
   "source": [
    "### Packages \n",
    "\n",
    "[AAp1] Anton Antonov,\n",
    "[LLM::Functions, Raku package](https://github.com/antononcube/Raku-LLM-Functions),\n",
    "(2023-2025),\n",
    "[GitHub/antononcube](https://github.com/antononcube).\n",
    "\n",
    "[AAp2] Anton Antonov,\n",
    "[WWW::OpenAI, Raku package](https://github.com/antononcube/Raku-WWW-OpenAI),\n",
    "(2023-2025),\n",
    "[GitHub/antononcube](https://github.com/antononcube).\n",
    "\n",
    "[AAp3] Anton Antonov,\n",
    "[WWW::Gemini, Raku package](https://github.com/antononcube/Raku-WWW-Gemini),\n",
    "(2023-2025),\n",
    "[GitHub/antononcube](https://github.com/antononcube).\n",
    "\n",
    "[AAp4] Anton Antonov,\n",
    "[Chemistry::Stoichiometry, Raku package](https://github.com/antononcube/Raku-Chemistry-Stoichiometry),\n",
    "(2021-2025),\n",
    "[GitHub/antononcube](https://github.com/antononcube)."
   ]
  }
 ],
 "metadata": {
  "kernelspec": {
   "display_name": "RakuChatbook",
   "language": "raku",
   "name": "raku"
  },
  "language_info": {
   "file_extension": ".raku",
   "mimetype": "text/x-raku",
   "name": "raku",
   "version": "6.d"
  }
 },
 "nbformat": 4,
 "nbformat_minor": 5
}
